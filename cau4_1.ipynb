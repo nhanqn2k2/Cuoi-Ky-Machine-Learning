{
 "cells": [
  {
   "cell_type": "code",
   "execution_count": 29,
   "id": "dd795fcb-cc9f-4aab-b1db-28a83b114ca6",
   "metadata": {},
   "outputs": [
    {
     "name": "stdout",
     "output_type": "stream",
     "text": [
      "Accuracy on validation set: 0.9142882234126636\n"
     ]
    }
   ],
   "source": [
    "from sklearn.model_selection import train_test_split\n",
    "from sklearn.preprocessing import StandardScaler, LabelEncoder\n",
    "from sklearn.linear_model import LogisticRegression\n",
    "from sklearn.metrics import accuracy_score, confusion_matrix, classification_report\n",
    "import pandas as pd\n",
    "\n",
    "# Load data\n",
    "df = pd.read_csv('patient_survival.csv')\n",
    "\n",
    "# Lựa chọn các đặc trưng quan trọng\n",
    "selected_features = ['age', 'bmi', 'elective_surgery', 'icu_admit_source', 'apache_2_diagnosis', 'apache_3j_diagnosis',\n",
    "                     'apache_post_operative', 'heart_rate_apache', 'resprate_apache', 'map_apache', 'temp_apache',\n",
    "                     'd1_glucose_max', 'd1_potassium_max', 'aids', 'cirrhosis', 'diabetes_mellitus', 'hepatic_failure',\n",
    "                     'immunosuppression', 'leukemia', 'lymphoma', 'solid_tumor_with_metastasis']\n",
    "\n",
    "# Lựa chọn cột dự đoán\n",
    "target_column = 'hospital_death'\n",
    "\n",
    "# Xóa cột không mong muốn và xử lý giá trị thiếu\n",
    "df.drop(columns=[\"Unnamed: 83\"], axis=1, inplace=True)\n",
    "df.dropna(inplace=True)\n",
    "\n",
    "# Đổi các giá trị trong dataset thành số\n",
    "le = LabelEncoder()\n",
    "df['icu_admit_source'] = le.fit_transform(df['icu_admit_source'])\n",
    "# Thêm các bước xử lý cho các cột dữ liệu kiểu categorical khác nếu cần\n",
    "\n",
    "# Chia data thành tập huấn luyện và tập validation\n",
    "X_train, X_valid, y_train, y_valid = train_test_split(df[selected_features], df[target_column], test_size=0.2, random_state=42)\n",
    "\n",
    "# Tiêu chuẩn hóa dữ liệu\n",
    "scaler = StandardScaler()\n",
    "X_train_scaled = scaler.fit_transform(X_train)\n",
    "X_valid_scaled = scaler.transform(X_valid)\n",
    "\n",
    "# Xây dựng mô hình Logistic Regression\n",
    "model = LogisticRegression()\n",
    "model.fit(X_train_scaled, y_train)\n",
    "\n",
    "# Dự đoán trên tập validation\n",
    "y_valid_pred = model.predict(X_valid_scaled)\n",
    "\n",
    "# Đánh giá hiệu suất trên tập validation\n",
    "accuracy = accuracy_score(y_valid, y_valid_pred)\n",
    "print(f'Accuracy on validation set: {accuracy}')\n",
    "\n",
    "# Sau khi đánh giá hiệu suất, có thể điều chỉnh siêu tham số và lặp lại quá trình huấn luyện nếu cần thiết."
   ]
  },
  {
   "cell_type": "code",
   "execution_count": null,
   "id": "9fe2018f-5e0a-4f4d-824a-417a588ed075",
   "metadata": {},
   "outputs": [],
   "source": []
  }
 ],
 "metadata": {
  "kernelspec": {
   "display_name": "Python 3 (ipykernel)",
   "language": "python",
   "name": "python3"
  },
  "language_info": {
   "codemirror_mode": {
    "name": "ipython",
    "version": 3
   },
   "file_extension": ".py",
   "mimetype": "text/x-python",
   "name": "python",
   "nbconvert_exporter": "python",
   "pygments_lexer": "ipython3",
   "version": "3.11.0"
  }
 },
 "nbformat": 4,
 "nbformat_minor": 5
}
