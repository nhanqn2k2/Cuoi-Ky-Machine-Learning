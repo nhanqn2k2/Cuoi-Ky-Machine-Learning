{
 "cells": [
  {
   "cell_type": "code",
   "execution_count": 3,
   "id": "dd795fcb-cc9f-4aab-b1db-28a83b114ca6",
   "metadata": {},
   "outputs": [],
   "source": [
    "# !pip install numpy scikit-learn\n",
    "from sklearn.model_selection import train_test_split\n",
    "from sklearn.datasets import load_iris\n",
    "from sklearn.linear_model import LogisticRegression\n",
    "from sklearn.metrics import accuracy_score\n",
    "import pandas as pd"
   ]
  },
  {
   "cell_type": "code",
   "execution_count": 9,
   "id": "16229fc1-6c1a-4b28-b32e-0985a304c12f",
   "metadata": {},
   "outputs": [],
   "source": [
    "# Load data\n",
    "file_path = 'patient_survival.csv'\n",
    "data = pd.read_csv(file_path)\n",
    "X = data.values[:,:-1]\n",
    "y = data.values[:,-1]"
   ]
  },
  {
   "cell_type": "code",
   "execution_count": 10,
   "id": "037dcf01-d8a2-460f-bcf4-ee2369e9b2c0",
   "metadata": {},
   "outputs": [],
   "source": [
    "# Chia data thành tập huấn luyện và tập validation\n",
    "X_train, X_valid, y_train, y_valid = train_test_split(X, y, test_size=0.2, random_state=42)"
   ]
  },
  {
   "cell_type": "code",
   "execution_count": null,
   "id": "c3009c87-fb37-437b-b0cb-f9a79cb6f459",
   "metadata": {},
   "outputs": [],
   "source": [
    "# Khởi tạo và huấn luyện mô hình\n",
    "model = \n",
    "model.fit(X_train, y_train)"
   ]
  },
  {
   "cell_type": "code",
   "execution_count": null,
   "id": "f459ccbb-e0c6-48e4-9b18-d79b6f5d666f",
   "metadata": {},
   "outputs": [],
   "source": [
    "# Dự đoán trên tập validation\n",
    "y_valid_pred = model.predict(X_valid)"
   ]
  },
  {
   "cell_type": "code",
   "execution_count": null,
   "id": "61a61de3-43fa-4da6-b72e-ec2789604e20",
   "metadata": {},
   "outputs": [],
   "source": [
    "# Đánh giá hiệu suất trên tập validation\n",
    "accuracy = accuracy_score(y_valid, y_valid_pred)\n",
    "print(f'Accuracy on validation set: {accuracy}')\n",
    "\n",
    "# Sau khi đánh giá hiệu suất, có thể điều chỉnh siêu tham số và lặp lại quá trình huấn luyện nếu cần thiết."
   ]
  }
 ],
 "metadata": {
  "kernelspec": {
   "display_name": "Python 3 (ipykernel)",
   "language": "python",
   "name": "python3"
  },
  "language_info": {
   "codemirror_mode": {
    "name": "ipython",
    "version": 3
   },
   "file_extension": ".py",
   "mimetype": "text/x-python",
   "name": "python",
   "nbconvert_exporter": "python",
   "pygments_lexer": "ipython3",
   "version": "3.11.0"
  }
 },
 "nbformat": 4,
 "nbformat_minor": 5
}
