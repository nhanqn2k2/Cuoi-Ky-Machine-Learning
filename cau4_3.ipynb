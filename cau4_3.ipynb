{
 "cells": [
  {
   "cell_type": "code",
   "execution_count": 4,
   "id": "bdcc8772-0491-4798-ba4b-6e9c39153ede",
   "metadata": {},
   "outputs": [],
   "source": [
    "# pip install numpy scikit-learn\n",
    "# pip install matplotlib\n",
    "import numpy as np\n",
    "from sklearn.model_selection import train_test_split\n",
    "from sklearn.linear_model import Lasso, Ridge\n",
    "from sklearn.metrics import mean_squared_error\n",
    "from sklearn.preprocessing import StandardScaler\n",
    "from sklearn.pipeline import make_pipeline\n",
    "from sklearn.neural_network import MLPRegressor\n",
    "import matplotlib.pyplot as plt\n",
    "import pandas as pd"
   ]
  },
  {
   "cell_type": "code",
   "execution_count": 5,
   "id": "c4021927-59dd-468c-bf7a-089955347194",
   "metadata": {},
   "outputs": [],
   "source": [
    "# Load data\n",
    "file_path = 'patient_survival.csv'\n",
    "data = pd.read_csv(file_path)\n",
    "X = data.values[:,:-1]\n",
    "y = data.values[:,-1]"
   ]
  },
  {
   "cell_type": "code",
   "execution_count": 9,
   "id": "41065dd3-28de-46f1-850a-52e3b3d22891",
   "metadata": {},
   "outputs": [],
   "source": [
    "# Chia data thành tập huấn luyện và tập validation\n",
    "X_train, X_valid, y_train, y_valid = train_test_split(X, y, test_size=0.2, random_state=42)"
   ]
  },
  {
   "cell_type": "code",
   "execution_count": null,
   "id": "ce0b1e91-4cc7-4c1e-bc9f-ce5612842adb",
   "metadata": {},
   "outputs": [],
   "source": [
    "# Standardize data\n",
    "scaler = StandardScaler()\n",
    "X_train_scaled = scaler.fit_transform(X_train)\n",
    "X_valid_scaled = scaler.transform(X_valid)"
   ]
  },
  {
   "cell_type": "code",
   "execution_count": null,
   "id": "334b3a11-d45c-449b-8116-9f90b71ffcdc",
   "metadata": {},
   "outputs": [],
   "source": [
    "# Khởi tạo mô hình Linear Regression với L1 regularization\n",
    "lasso_model = Lasso(alpha=0.1)\n",
    "lasso_model.fit(X_train_scaled, y_train)"
   ]
  },
  {
   "cell_type": "code",
   "execution_count": null,
   "id": "57a23d25-ffc3-485b-81d4-64e07103232f",
   "metadata": {},
   "outputs": [],
   "source": [
    "# Đánh giá mô hình trên tập validation\n",
    "y_valid_pred_lasso = lasso_model.predict(X_valid_scaled)\n",
    "valid_loss_lasso = mean_squared_error(y_valid, y_valid_pred_lasso)\n",
    "print('Lasso Validation Loss:', valid_loss_lasso)"
   ]
  },
  {
   "cell_type": "code",
   "execution_count": null,
   "id": "fb11511a-e2da-4e0c-892c-f18e6ca847d3",
   "metadata": {},
   "outputs": [],
   "source": [
    "# Khởi tạo mô hình Linear Regression với L2 regularization (Ridge)\n",
    "ridge_model = Ridge(alpha=0.1)\n",
    "ridge_model.fit(X_train_scaled, y_train)"
   ]
  },
  {
   "cell_type": "code",
   "execution_count": null,
   "id": "90950fc2-5c8a-4df2-be71-7b459701aa93",
   "metadata": {},
   "outputs": [],
   "source": [
    "# Đánh giá mô hình trên tập validation\n",
    "y_valid_pred_ridge = ridge_model.predict(X_valid_scaled)\n",
    "valid_loss_ridge = mean_squared_error(y_valid, y_valid_pred_ridge)\n",
    "print('Ridge Validation Loss:', valid_loss_ridge)"
   ]
  },
  {
   "cell_type": "code",
   "execution_count": null,
   "id": "01e3f8e5-1ac4-43c2-95f7-9650429d26db",
   "metadata": {},
   "outputs": [],
   "source": [
    "# Khởi tạo mô hình Neural Network với dropout\n",
    "mlp_model = make_pipeline(\n",
    "    StandardScaler(),\n",
    "    MLPRegressor(hidden_layer_sizes=(100, 50), alpha=0.1, max_iter=1000, random_state=42)\n",
    ")\n",
    "\n",
    "mlp_model.fit(X_train, y_train.ravel())"
   ]
  },
  {
   "cell_type": "code",
   "execution_count": null,
   "id": "c4125fc9-2edb-4e2a-b413-059686c0b31b",
   "metadata": {},
   "outputs": [],
   "source": [
    "# Đánh giá mô hình trên tập validation\n",
    "y_valid_pred_mlp = mlp_model.predict(X_valid)\n",
    "valid_loss_mlp = mean_squared_error(y_valid, y_valid_pred_mlp)\n",
    "print('MLP Validation Loss:', valid_loss_mlp)"
   ]
  }
 ],
 "metadata": {
  "kernelspec": {
   "display_name": "Python 3 (ipykernel)",
   "language": "python",
   "name": "python3"
  },
  "language_info": {
   "codemirror_mode": {
    "name": "ipython",
    "version": 3
   },
   "file_extension": ".py",
   "mimetype": "text/x-python",
   "name": "python",
   "nbconvert_exporter": "python",
   "pygments_lexer": "ipython3",
   "version": "3.11.0"
  }
 },
 "nbformat": 4,
 "nbformat_minor": 5
}
