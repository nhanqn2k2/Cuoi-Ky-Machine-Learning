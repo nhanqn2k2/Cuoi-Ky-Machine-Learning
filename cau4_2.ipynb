{
 "cells": [
  {
   "cell_type": "code",
   "execution_count": 6,
   "id": "5c4ba27f-f89c-49c4-bd60-d753224d0b76",
   "metadata": {},
   "outputs": [
    {
     "name": "stdout",
     "output_type": "stream",
     "text": [
      "Epoch 1, Accuracy on validation set: 0.9142882234126636\n",
      "Epoch 2, Accuracy on validation set: 0.9142882234126636\n",
      "Epoch 3, Accuracy on validation set: 0.9142882234126636\n",
      "Epoch 4, Accuracy on validation set: 0.9142882234126636\n",
      "Epoch 5, Accuracy on validation set: 0.9142882234126636\n",
      "Epoch 6, Accuracy on validation set: 0.9142882234126636\n",
      "Early stopping after 6 epochs.\n",
      "Final accuracy on validation set: 0.9142882234126636\n"
     ]
    }
   ],
   "source": [
    "import pandas as pd\n",
    "from sklearn.model_selection import train_test_split\n",
    "from sklearn.preprocessing import StandardScaler, LabelEncoder\n",
    "from sklearn.linear_model import LogisticRegression\n",
    "from sklearn.metrics import accuracy_score\n",
    "\n",
    "# Load data\n",
    "df = pd.read_csv('patient_survival.csv')\n",
    "\n",
    "# Lựa chọn các đặc trưng quan trọng\n",
    "selected_features = ['age', 'bmi', 'elective_surgery', 'icu_admit_source', 'apache_2_diagnosis', 'apache_3j_diagnosis',\n",
    "                     'apache_post_operative', 'heart_rate_apache', 'resprate_apache', 'map_apache', 'temp_apache',\n",
    "                     'd1_glucose_max', 'd1_potassium_max', 'aids', 'cirrhosis', 'diabetes_mellitus', 'hepatic_failure',\n",
    "                     'immunosuppression', 'leukemia', 'lymphoma', 'solid_tumor_with_metastasis']\n",
    "\n",
    "# Lựa chọn cột dự đoán\n",
    "target_column = 'hospital_death'\n",
    "\n",
    "# Xóa cột không mong muốn và xử lý giá trị thiếu\n",
    "df.drop(columns=[\"Unnamed: 83\"], axis=1, inplace=True)\n",
    "df.dropna(inplace=True)\n",
    "\n",
    "# Đổi các giá trị trong dataset thành số\n",
    "le = LabelEncoder()\n",
    "df['icu_admit_source'] = le.fit_transform(df['icu_admit_source'])\n",
    "\n",
    "# Chia data thành tập huấn luyện và tập validation\n",
    "X_train, X_valid, y_train, y_valid = train_test_split(df[selected_features], df[target_column], test_size=0.2, random_state=42)\n",
    "\n",
    "# Chuẩn hóa dữ liệu\n",
    "scaler = StandardScaler()\n",
    "X_train_scaled = scaler.fit_transform(X_train)\n",
    "X_valid_scaled = scaler.transform(X_valid)\n",
    "\n",
    "# Xây dựng mô hình Logistic Regression\n",
    "model = LogisticRegression()\n",
    "\n",
    "# Tạo vòng lặp với early stopping\n",
    "best_accuracy = 0.0\n",
    "best_model = None\n",
    "patience = 5\n",
    "no_improvement_count = 0\n",
    "\n",
    "for epoch in range(100):  # Điều chỉnh epoch khi cần thiết\n",
    "    model.fit(X_train_scaled, y_train)\n",
    "    \n",
    "    # Dự đoán trên tập validation\n",
    "    y_valid_pred = model.predict(X_valid_scaled)\n",
    "\n",
    "    # Đánh giá hiệu suất trên tập validation\n",
    "    accuracy = accuracy_score(y_valid, y_valid_pred)\n",
    "    print(f'Epoch {epoch + 1}, Accuracy on validation set: {accuracy}')\n",
    "\n",
    "    # Kiểm tra mức độ cải tiến\n",
    "    if accuracy > best_accuracy:\n",
    "        best_accuracy = accuracy\n",
    "        best_model = model\n",
    "        no_improvement_count = 0\n",
    "    else:\n",
    "        no_improvement_count += 1\n",
    "\n",
    "    # Kiểm tra early stopping\n",
    "    if no_improvement_count >= patience:\n",
    "        print(f'Early stopping after {epoch + 1} epochs.')\n",
    "        break\n",
    "\n",
    "# Sử dụng mô hình tốt nhất để đánh giá lần cuối\n",
    "final_valid_pred = best_model.predict(X_valid_scaled)\n",
    "final_accuracy = accuracy_score(y_valid, final_valid_pred)\n",
    "print(f'Final accuracy on validation set: {final_accuracy}')"
   ]
  },
  {
   "cell_type": "code",
   "execution_count": null,
   "id": "27851b25-db46-4a71-b9dc-16844e399430",
   "metadata": {},
   "outputs": [],
   "source": []
  }
 ],
 "metadata": {
  "kernelspec": {
   "display_name": "Python 3 (ipykernel)",
   "language": "python",
   "name": "python3"
  },
  "language_info": {
   "codemirror_mode": {
    "name": "ipython",
    "version": 3
   },
   "file_extension": ".py",
   "mimetype": "text/x-python",
   "name": "python",
   "nbconvert_exporter": "python",
   "pygments_lexer": "ipython3",
   "version": "3.11.0"
  }
 },
 "nbformat": 4,
 "nbformat_minor": 5
}
