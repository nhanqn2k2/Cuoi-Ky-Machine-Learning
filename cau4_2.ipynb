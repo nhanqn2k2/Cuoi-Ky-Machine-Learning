{
 "cells": [
  {
   "cell_type": "code",
   "execution_count": 2,
   "id": "f252c3bc-557a-4669-92b7-4b3a7c859f45",
   "metadata": {},
   "outputs": [],
   "source": [
    "# pip install matplotlib\n",
    "# pip install numpy scipy scikit-learn\n",
    "import numpy as np\n",
    "from sklearn.model_selection import train_test_split\n",
    "from sklearn.linear_model import LinearRegression\n",
    "from sklearn.metrics import mean_squared_error\n",
    "import matplotlib.pyplot as plt\n",
    "import pandas as pd"
   ]
  },
  {
   "cell_type": "code",
   "execution_count": null,
   "id": "5fdf0a60-f011-416c-85aa-7f1cb3d5d51e",
   "metadata": {},
   "outputs": [],
   "source": [
    "# Load data\n",
    "file_path = 'patient_survival.csv'\n",
    "data = pd.read_csv(file_path)\n",
    "X = data.values[:,:-1]\n",
    "y = data.values[:,-1]"
   ]
  },
  {
   "cell_type": "code",
   "execution_count": null,
   "id": "c9e729af-2c1a-4c20-b0c9-a4a5ab1a134c",
   "metadata": {},
   "outputs": [],
   "source": [
    "# Chia data thành tập huấn luyện và tập validation\n",
    "X_train, X_valid, y_train, y_valid = train_test_split(X, y, test_size=0.2, random_state=42)"
   ]
  },
  {
   "cell_type": "code",
   "execution_count": null,
   "id": "40ed27fe-ef94-46a1-bb76-10675966fc0b",
   "metadata": {},
   "outputs": [],
   "source": [
    "# Khởi tạo mô hình ..."
   ]
  },
  {
   "cell_type": "code",
   "execution_count": null,
   "id": "933562fa-0b1f-4989-945b-4347766a31dc",
   "metadata": {},
   "outputs": [],
   "source": [
    "# Huấn luyện mô hình với early stopping\n",
    "#-------------------------------------#\n",
    "# Giữ giá trị lỗ (loss) tốt nhất trên tập validation\n",
    "best_valid_loss = float('inf')\n",
    "\n",
    "# Giữ mô hình tốt nhất\n",
    "best_model = None\n",
    "\n",
    "num_epochs = 1000\n",
    "for epoch in range(num_epochs):\n",
    "    # Huấn luyện mô hình trên tập huấn luyện\n",
    "    model.fit(X_train, y_train)\n",
    "    \n",
    "    # Dự đoán trên tập validation\n",
    "    y_valid_pred = model.predict(X_valid)\n",
    "    \n",
    "    # Tính toán loss trên tập validation\n",
    "    valid_loss = mean_squared_error(y_valid, y_valid_pred)\n",
    "    \n",
    "    # Kiểm tra điều kiện early stopping\n",
    "    if valid_loss < best_valid_loss:\n",
    "        best_valid_loss = valid_loss\n",
    "        best_model = model\n",
    "    else:\n",
    "        print(f'Early stopping at epoch {epoch}')\n",
    "        break"
   ]
  }
 ],
 "metadata": {
  "kernelspec": {
   "display_name": "Python 3 (ipykernel)",
   "language": "python",
   "name": "python3"
  },
  "language_info": {
   "codemirror_mode": {
    "name": "ipython",
    "version": 3
   },
   "file_extension": ".py",
   "mimetype": "text/x-python",
   "name": "python",
   "nbconvert_exporter": "python",
   "pygments_lexer": "ipython3",
   "version": "3.11.0"
  }
 },
 "nbformat": 4,
 "nbformat_minor": 5
}
