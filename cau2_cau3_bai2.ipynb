{
 "cells": [
  {
   "cell_type": "code",
   "execution_count": 1,
   "id": "f32cf9f5-405e-4f30-a4cc-2461e8736baf",
   "metadata": {},
   "outputs": [
    {
     "name": "stdout",
     "output_type": "stream",
     "text": [
      "Model: SVC\n",
      "Accuracy: 0.913497848423641\n",
      "Confusion Matrix:\n",
      "[[10355    28]\n",
      " [  957    47]]\n",
      "Classification Report:\n",
      "              precision    recall  f1-score   support\n",
      "\n",
      "           0       0.92      1.00      0.95     10383\n",
      "           1       0.63      0.05      0.09      1004\n",
      "\n",
      "    accuracy                           0.91     11387\n",
      "   macro avg       0.77      0.52      0.52     11387\n",
      "weighted avg       0.89      0.91      0.88     11387\n",
      "\n",
      "\n",
      "--------------------------------------------------\n",
      "\n",
      "Model: GradientBoostingClassifier\n",
      "Accuracy: 0.9182400983577764\n",
      "Confusion Matrix:\n",
      "[[10297    86]\n",
      " [  845   159]]\n",
      "Classification Report:\n",
      "              precision    recall  f1-score   support\n",
      "\n",
      "           0       0.92      0.99      0.96     10383\n",
      "           1       0.65      0.16      0.25      1004\n",
      "\n",
      "    accuracy                           0.92     11387\n",
      "   macro avg       0.79      0.58      0.61     11387\n",
      "weighted avg       0.90      0.92      0.89     11387\n",
      "\n",
      "\n",
      "--------------------------------------------------\n",
      "\n",
      "Model: RandomForestClassifier\n",
      "Accuracy: 0.9176253622552033\n",
      "Confusion Matrix:\n",
      "[[10319    64]\n",
      " [  874   130]]\n",
      "Classification Report:\n",
      "              precision    recall  f1-score   support\n",
      "\n",
      "           0       0.92      0.99      0.96     10383\n",
      "           1       0.67      0.13      0.22      1004\n",
      "\n",
      "    accuracy                           0.92     11387\n",
      "   macro avg       0.80      0.56      0.59     11387\n",
      "weighted avg       0.90      0.92      0.89     11387\n",
      "\n",
      "\n",
      "--------------------------------------------------\n",
      "\n",
      "Model: LogisticRegression\n",
      "Accuracy: 0.9142882234126636\n",
      "Confusion Matrix:\n",
      "[[10358    25]\n",
      " [  951    53]]\n",
      "Classification Report:\n",
      "              precision    recall  f1-score   support\n",
      "\n",
      "           0       0.92      1.00      0.96     10383\n",
      "           1       0.68      0.05      0.10      1004\n",
      "\n",
      "    accuracy                           0.91     11387\n",
      "   macro avg       0.80      0.53      0.53     11387\n",
      "weighted avg       0.90      0.91      0.88     11387\n",
      "\n",
      "\n",
      "--------------------------------------------------\n",
      "\n"
     ]
    }
   ],
   "source": [
    "import pandas as pd\n",
    "from sklearn.model_selection import train_test_split\n",
    "from sklearn.svm import SVC\n",
    "from sklearn.ensemble import GradientBoostingClassifier, RandomForestClassifier\n",
    "from sklearn.linear_model import LogisticRegression\n",
    "from sklearn.metrics import accuracy_score, confusion_matrix, classification_report\n",
    "from sklearn.preprocessing import StandardScaler, LabelEncoder\n",
    "\n",
    "# Đọc dữ liệu từ file CSV hoặc nguồn dữ liệu khác\n",
    "# Thay đổi 'du_lieu.csv' thành tên tệp của bạn\n",
    "df = pd.read_csv('patient_survival.csv')\n",
    "\n",
    "# Lựa chọn các đặc trưng quan trọng\n",
    "selected_features = ['age', 'bmi', 'elective_surgery', 'icu_admit_source', 'apache_2_diagnosis', 'apache_3j_diagnosis',\n",
    "                     'apache_post_operative', 'heart_rate_apache', 'resprate_apache', 'map_apache', 'temp_apache',\n",
    "                     'd1_glucose_max', 'd1_potassium_max', 'aids', 'cirrhosis', 'diabetes_mellitus', 'hepatic_failure',\n",
    "                     'immunosuppression', 'leukemia', 'lymphoma', 'solid_tumor_with_metastasis']\n",
    "\n",
    "# Lựa chọn cột dự đoán\n",
    "target_column = 'hospital_death'\n",
    "\n",
    "# Xóa cột không mong muốn và xử lý giá trị thiếu\n",
    "df.drop(columns=[\"Unnamed: 83\"], axis=1, inplace=True)\n",
    "df.dropna(inplace=True)\n",
    "\n",
    "# Đổi các giá trị trong dataset thành số\n",
    "le = LabelEncoder()\n",
    "df['icu_admit_source'] = le.fit_transform(df['icu_admit_source'])\n",
    "\n",
    "# Tách dữ liệu thành tập huấn luyện và tập kiểm tra\n",
    "X_train, X_test, y_train, y_test = train_test_split(df[selected_features], df[target_column], test_size=0.2, random_state=42)\n",
    "\n",
    "# Tiêu chuẩn hóa dữ liệu\n",
    "scaler = StandardScaler()\n",
    "X_train_scaled = scaler.fit_transform(X_train)\n",
    "X_test_scaled = scaler.transform(X_test)\n",
    "\n",
    "# Initialize models\n",
    "svm_model = SVC(kernel='rbf', C=1.0, gamma='scale', random_state=42)\n",
    "gb_model = GradientBoostingClassifier(n_estimators=100, learning_rate=0.1, max_depth=3, random_state=42)\n",
    "rf_model = RandomForestClassifier(n_estimators=100, random_state=42)\n",
    "lr_model = LogisticRegression(random_state=42)\n",
    "\n",
    "# List of models\n",
    "models = [svm_model, gb_model, rf_model, lr_model]\n",
    "\n",
    "# Evaluate each model\n",
    "for model in models:\n",
    "    model.fit(X_train_scaled, y_train)\n",
    "    y_pred = model.predict(X_test_scaled)\n",
    "    \n",
    "    accuracy = accuracy_score(y_test, y_pred)\n",
    "    conf_matrix = confusion_matrix(y_test, y_pred)\n",
    "    classification_rep = classification_report(y_test, y_pred)\n",
    "    \n",
    "    print(f'Model: {type(model).__name__}')\n",
    "    print(f'Accuracy: {accuracy}')\n",
    "    print(f'Confusion Matrix:\\n{conf_matrix}')\n",
    "    print(f'Classification Report:\\n{classification_rep}')\n",
    "    print('\\n' + '-'*50 + '\\n')\n"
   ]
  },
  {
   "cell_type": "code",
   "execution_count": 13,
   "id": "2c3a7f4a-e6e4-4dfc-93ee-6f8df6cb7ad6",
   "metadata": {},
   "outputs": [
    {
     "name": "stdout",
     "output_type": "stream",
     "text": [
      "Epoch 1/10\n",
      "1424/1424 [==============================] - 3s 2ms/step - loss: 0.2563 - accuracy: 0.9147\n",
      "Epoch 2/10\n",
      "1424/1424 [==============================] - 2s 2ms/step - loss: 0.2424 - accuracy: 0.9168\n",
      "Epoch 3/10\n",
      "1424/1424 [==============================] - 3s 2ms/step - loss: 0.2389 - accuracy: 0.9169\n",
      "Epoch 4/10\n",
      "1424/1424 [==============================] - 3s 2ms/step - loss: 0.2363 - accuracy: 0.9178\n",
      "Epoch 5/10\n",
      "1424/1424 [==============================] - 2s 2ms/step - loss: 0.2345 - accuracy: 0.9179\n",
      "Epoch 6/10\n",
      "1424/1424 [==============================] - 3s 2ms/step - loss: 0.2326 - accuracy: 0.9181\n",
      "Epoch 7/10\n",
      "1424/1424 [==============================] - 3s 2ms/step - loss: 0.2315 - accuracy: 0.9190\n",
      "Epoch 8/10\n",
      "1424/1424 [==============================] - 3s 2ms/step - loss: 0.2299 - accuracy: 0.9192\n",
      "Epoch 9/10\n",
      "1424/1424 [==============================] - 3s 2ms/step - loss: 0.2287 - accuracy: 0.9194\n",
      "Epoch 10/10\n",
      "1424/1424 [==============================] - 2s 2ms/step - loss: 0.2274 - accuracy: 0.9197\n"
     ]
    },
    {
     "data": {
      "text/plain": [
       "<keras.src.callbacks.History at 0x228d18f7310>"
      ]
     },
     "execution_count": 13,
     "metadata": {},
     "output_type": "execute_result"
    }
   ],
   "source": [
    "# Cau 3 bai 2\n",
    "# Feed Forward Neural Network\n",
    "model_ffnn = Sequential()\n",
    "model_ffnn.add(Dense(64, activation='relu', input_dim=X_train_scaled.shape[1]))\n",
    "model_ffnn.add(Dense(32, activation='relu'))\n",
    "model_ffnn.add(Dense(1, activation='sigmoid'))\n",
    "model_ffnn.compile(loss='binary_crossentropy', optimizer='adam', metrics=['accuracy'])\n",
    "model_ffnn.fit(X_train_scaled, y_train, epochs=10, batch_size=32)"
   ]
  },
  {
   "cell_type": "code",
   "execution_count": 14,
   "id": "f2d3dc5c-36fd-4b49-a3f4-e15ace763c3a",
   "metadata": {},
   "outputs": [
    {
     "name": "stdout",
     "output_type": "stream",
     "text": [
      "Epoch 1/10\n",
      "1424/1424 [==============================] - 6s 3ms/step - loss: 0.2756 - accuracy: 0.9110\n",
      "Epoch 2/10\n",
      "1424/1424 [==============================] - 4s 3ms/step - loss: 0.2427 - accuracy: 0.9170\n",
      "Epoch 3/10\n",
      "1424/1424 [==============================] - 4s 3ms/step - loss: 0.2387 - accuracy: 0.9175\n",
      "Epoch 4/10\n",
      "1424/1424 [==============================] - 4s 3ms/step - loss: 0.2358 - accuracy: 0.9182\n",
      "Epoch 5/10\n",
      "1424/1424 [==============================] - 4s 3ms/step - loss: 0.2339 - accuracy: 0.9185\n",
      "Epoch 6/10\n",
      "1424/1424 [==============================] - 5s 3ms/step - loss: 0.2325 - accuracy: 0.9193\n",
      "Epoch 7/10\n",
      "1424/1424 [==============================] - 5s 4ms/step - loss: 0.2311 - accuracy: 0.9195\n",
      "Epoch 8/10\n",
      "1424/1424 [==============================] - 4s 3ms/step - loss: 0.2299 - accuracy: 0.9196\n",
      "Epoch 9/10\n",
      "1424/1424 [==============================] - 4s 3ms/step - loss: 0.2292 - accuracy: 0.9198\n",
      "Epoch 10/10\n",
      "1424/1424 [==============================] - 4s 3ms/step - loss: 0.2281 - accuracy: 0.9196\n"
     ]
    },
    {
     "data": {
      "text/plain": [
       "<keras.src.callbacks.History at 0x22899f414d0>"
      ]
     },
     "execution_count": 14,
     "metadata": {},
     "output_type": "execute_result"
    }
   ],
   "source": [
    "# Recurrent Neural Network (LSTM)\n",
    "X_train_lstm = np.reshape(X_train_scaled, (X_train_scaled.shape[0], 1, X_train_scaled.shape[1]))\n",
    "X_test_lstm = np.reshape(X_test_scaled, (X_test_scaled.shape[0], 1, X_test_scaled.shape[1]))\n",
    "\n",
    "model_rnn = Sequential()\n",
    "model_rnn.add(LSTM(64, input_shape=(1, X_train_scaled.shape[1])))\n",
    "model_rnn.add(Dense(1, activation='sigmoid'))\n",
    "model_rnn.compile(loss='binary_crossentropy', optimizer='adam', metrics=['accuracy'])\n",
    "model_rnn.fit(X_train_lstm, y_train, epochs=10, batch_size=32)"
   ]
  },
  {
   "cell_type": "code",
   "execution_count": 15,
   "id": "3c6c5ce5-c5b1-4c07-ba23-74c51d90e1cb",
   "metadata": {},
   "outputs": [
    {
     "name": "stdout",
     "output_type": "stream",
     "text": [
      "356/356 [==============================] - 1s 1ms/step - loss: 0.2462 - accuracy: 0.9152\n",
      "Accuracy of Feed Forward Neural Network: 0.915166437625885\n",
      "356/356 [==============================] - 1s 1ms/step\n",
      "356/356 [==============================] - 1s 2ms/step - loss: 0.2408 - accuracy: 0.9161\n",
      "Accuracy of Recurrent Neural Network (LSTM): 0.9161324501037598\n",
      "356/356 [==============================] - 1s 2ms/step\n"
     ]
    }
   ],
   "source": [
    "# Đánh giá mô hình Feed Forward Neural Network\n",
    "_, accuracy_ffnn = model_ffnn.evaluate(X_test_scaled, y_test)\n",
    "print(\"Accuracy of Feed Forward Neural Network:\", accuracy_ffnn)\n",
    "\n",
    "# Dự đoán trên mô hình Feed Forward Neural Network\n",
    "predictions_ffnn = model_ffnn.predict(X_test_scaled)\n",
    "\n",
    "# Đánh giá mô hình Recurrent Neural Network (LSTM)\n",
    "_, accuracy_rnn = model_rnn.evaluate(X_test_lstm, y_test)\n",
    "print(\"Accuracy of Recurrent Neural Network (LSTM):\", accuracy_rnn)\n",
    "\n",
    "# Dự đoán trên mô hình Recurrent Neural Network (LSTM)\n",
    "predictions_rnn = model_rnn.predict(X_test_lstm)"
   ]
  },
  {
   "cell_type": "code",
   "execution_count": null,
   "id": "7dcecceb-28a7-470f-9128-8f6e91df2d77",
   "metadata": {},
   "outputs": [],
   "source": []
  }
 ],
 "metadata": {
  "kernelspec": {
   "display_name": "Python 3 (ipykernel)",
   "language": "python",
   "name": "python3"
  },
  "language_info": {
   "codemirror_mode": {
    "name": "ipython",
    "version": 3
   },
   "file_extension": ".py",
   "mimetype": "text/x-python",
   "name": "python",
   "nbconvert_exporter": "python",
   "pygments_lexer": "ipython3",
   "version": "3.11.5"
  }
 },
 "nbformat": 4,
 "nbformat_minor": 5
}
